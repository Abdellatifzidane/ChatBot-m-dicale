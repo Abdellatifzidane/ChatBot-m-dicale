{
    "cells": [
        {
            "cell_type": "code",
            "execution_count": 1,
            "metadata": {},
            "outputs": [
                {
                    "name": "stdout",
                    "output_type": "stream",
                    "text": [
                        "🔗 Traitement de : CIMETIDINE ARROW 200 mg\n",
                        "✅ Fichier enregistré : notices_txt\\CIMETIDINE ARROW 200 mg.txt\n",
                        "🔗 Traitement de : FAMOTIDINE EG 20 mg\n",
                        "✅ Fichier enregistré : notices_txt\\FAMOTIDINE EG 20 mg.txt\n",
                        "🔗 Traitement de : FAMOTIDINE EG 40 mg\n",
                        "✅ Fichier enregistré : notices_txt\\FAMOTIDINE EG 40 mg.txt\n",
                        "🔗 Traitement de : MOPRAL 10 mg\n",
                        "✅ Fichier enregistré : notices_txt\\MOPRAL 10 mg.txt\n",
                        "🔗 Traitement de : MOPRAL 20 mg\n",
                        "✅ Fichier enregistré : notices_txt\\MOPRAL 20 mg.txt\n"
                    ]
                }
            ],
            "source": [
                "import pandas as pd\n",
                "import requests\n",
                "from bs4 import BeautifulSoup\n",
                "import os\n",
                "import time\n",
                "\n",
                "# 📁 Créer un dossier de sortie\n",
                "output_dir = \"notices_txt\"\n",
                "os.makedirs(output_dir, exist_ok=True)\n",
                "\n",
                "# 📄 Charger ton fichier Excel\n",
                "df = pd.read_excel(\"medicament.xlsx\")\n",
                "\n",
                "# 🔁 Boucle sur les 5 premiers liens\n",
                "for index, row in df.head(5).iterrows():\n",
                "    url = row[\"Lien_Notice\"]\n",
                "    nom_medicament = str(row[\"Denomination\"]).strip().replace(\"/\", \"-\").replace(\"\\\\\", \"-\")  # Nettoyage du nom\n",
                "\n",
                "    print(f\"🔗 Traitement de : {nom_medicament}\")\n",
                "\n",
                "    try:\n",
                "        headers = {\"User-Agent\": \"Mozilla/5.0\"}\n",
                "        response = requests.get(url, headers=headers, timeout=10)\n",
                "        response.raise_for_status()\n",
                "        soup = BeautifulSoup(response.text, \"html.parser\")\n",
                "\n",
                "        # 🔍 Extraire tout le texte\n",
                "        texte_complet = soup.get_text(separator=\"\\n\", strip=True)\n",
                "\n",
                "        # ✂️ Nettoyage du texte\n",
                "        start_index = texte_complet.find(\"Dénomination du médicament\")\n",
                "        end_index = texte_complet.find(\"Retour en haut de la page\")\n",
                "\n",
                "        if start_index != -1:\n",
                "            texte_util = texte_complet[start_index:end_index if end_index != -1 else None]\n",
                "        else:\n",
                "            texte_util = texte_complet  # fallback si pas trouvé\n",
                "\n",
                "        # 💾 Sauvegarde dans un fichier .txt\n",
                "        if texte_util.strip():\n",
                "            filename = os.path.join(output_dir, f\"{nom_medicament}.txt\")\n",
                "            with open(filename, \"w\", encoding=\"utf-8\") as f:\n",
                "                f.write(texte_util)\n",
                "            print(f\"✅ Fichier enregistré : {filename}\")\n",
                "        else:\n",
                "            print(f\"⚠️ Aucun texte utile trouvé pour {nom_medicament}\")\n",
                "\n",
                "        time.sleep(1)\n",
                "\n",
                "    except Exception as e:\n",
                "        print(f\"❌ Erreur pour {nom_medicament} : {e}\")\n"
            ]
        },
        {
            "cell_type": "code",
            "execution_count": null,
            "metadata": {},
            "outputs": [],
            "source": []
        }
    ],
    "metadata": {
        "kernelspec": {
            "display_name": "base",
            "language": "python",
            "name": "python3"
        },
        "language_info": {
            "codemirror_mode": {
                "name": "ipython",
                "version": 3
            },
            "file_extension": ".py",
            "mimetype": "text/x-python",
            "name": "python",
            "nbconvert_exporter": "python",
            "pygments_lexer": "ipython3",
            "version": "3.9.7"
        }
    },
    "nbformat": 4,
    "nbformat_minor": 2
}
